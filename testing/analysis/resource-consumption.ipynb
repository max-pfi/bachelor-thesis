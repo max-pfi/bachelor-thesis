{
 "cells": [
  {
   "cell_type": "code",
   "id": "initial_id",
   "metadata": {
    "collapsed": true
   },
   "source": [
    "import pandas as pd\n",
    "import matplotlib.pyplot as plt\n",
    "import json"
   ],
   "outputs": [],
   "execution_count": null
  },
  {
   "cell_type": "code",
   "id": "9e799fd183c4655a",
   "metadata": {},
   "source": [
    "run_start = 1 # Number of the first run to include\n",
    "run_number = 3 # Number of runs to include\n",
    "raw_runs = []\n",
    "resource_dfs = []\n",
    "method = 'Trigger' # Adjust based on the method being analyzed\n",
    "for i in range(run_start, run_start + run_number):\n",
    "    with open(f\"data/stress_{i}.json\", \"r\") as f:\n",
    "        raw_runs.append([json.loads(line) for line in f])\n",
    "        resource_dfs.append(pd.read_csv(f\"data/stress_cpu_memory_{i}.csv\", parse_dates=['timestamp']))"
   ],
   "outputs": [],
   "execution_count": null
  },
  {
   "cell_type": "code",
   "id": "95b13d7f0340cc67",
   "metadata": {},
   "source": [
    "def prepare_dataframe(data):\n",
    "    df = pd.json_normalize(data)\n",
    "\n",
    "    df['timestamp'] = pd.to_datetime(df['data.time']).dt.floor('S')\n",
    "    df['value'] = pd.to_numeric(df['data.value'])\n",
    "    df = df[['timestamp', 'metric', 'value']].sort_values('timestamp')\n",
    "\n",
    "    # df with only the columns needed and the timestamp as the index\n",
    "    df = (df.pivot_table(index='timestamp', columns='metric', values='value', aggfunc='sum').fillna(0))\n",
    "\n",
    "    t0 = df.index.min()\n",
    "    t1 = df.index.max()\n",
    "\n",
    "    # index in seconds instead of timestamps\n",
    "    index_in_seconds = (df.index - t0).total_seconds().astype(int)\n",
    "    df.index = index_in_seconds\n",
    "\n",
    "    # fill up missing seconds (should not be needed but just in case)\n",
    "    full_idx = pd.RangeIndex(start=0, stop=int((t1 - t0).total_seconds()) + 1, step=1, name='t_seconds')\n",
    "    df = df.reindex(full_idx, fill_value=0)\n",
    "\n",
    "    df['connections'] = df['single_client_connections'].cumsum()\n",
    "\n",
    "    return df, t0"
   ],
   "outputs": [],
   "execution_count": null
  },
  {
   "cell_type": "code",
   "id": "24e40149ad40e391",
   "metadata": {},
   "source": [
    "def load_resource_data(df, base_time):\n",
    "    df['cpu'] = df['cpu_percent'].str.replace('%', '', regex=False).astype(float)\n",
    "    df['mem'] = df['memory_usage'].str.extract(r'([\\d\\.]+)MiB').astype(float)\n",
    "    df['t_seconds'] = (df['timestamp'].dt.floor('S') - base_time).dt.total_seconds().astype(int)\n",
    "    df = df.groupby('t_seconds')[['cpu', 'mem']].mean().sort_index()\n",
    "    full_idx = pd.RangeIndex(start=0, stop=df.index.max() + 1, step=1, name='t_seconds')\n",
    "    df = df.reindex(full_idx).ffill().fillna(0)\n",
    "\n",
    "    df = df.rolling(window=5, min_periods=1).mean()\n",
    "\n",
    "    return df"
   ],
   "outputs": [],
   "execution_count": null
  },
  {
   "cell_type": "code",
   "id": "9292ce57129ed1d3",
   "metadata": {},
   "source": [
    "plt.figure(figsize=(14, 8))\n",
    "\n",
    "runs = []\n",
    "runs_resource = []\n",
    "\n",
    "increase_points = []\n",
    "for i in range(len(raw_runs)):\n",
    "    s, run_t0 = prepare_dataframe(raw_runs[i])\n",
    "    resource_df = load_resource_data(resource_dfs[i], run_t0)\n",
    "\n",
    "    runs.append(s[['connections']].sort_index())\n",
    "    runs_resource.append(resource_df)\n",
    "\n",
    "comb = pd.concat(runs, axis=1, keys=range(1, len(runs) + 1))\n",
    "cpu_mem = pd.concat(runs_resource, axis=1, keys=range(1, len(runs_resource) + 1))\n",
    "\n",
    "avg_conn = comb.xs('connections', axis=1, level=1).mean(axis=1)\n",
    "avg_cpu = cpu_mem.xs('cpu', axis=1, level=1).mean(axis=1)\n",
    "avg_mem = cpu_mem.xs('mem', axis=1, level=1).mean(axis=1)\n",
    "\n",
    "plt.plot(avg_conn.index, avg_conn.values, label=f'Cumulative connections')\n",
    "plt.plot(avg_cpu.index, avg_cpu.values, label='CPU (%)')\n",
    "plt.plot(avg_mem.index, avg_mem.values, label='Memory (MiB)')\n",
    "\n",
    "\n",
    "plt.xlabel(\"Seconds since start\")\n",
    "plt.ylabel(\"Average across runs\")\n",
    "plt.title(f'{method}-based: CPU, Memory Usage, Cumulative Connections')\n",
    "plt.grid(True)\n",
    "plt.tight_layout()\n",
    "plt.legend()\n",
    "plt.show()"
   ],
   "outputs": [],
   "execution_count": null
  },
  {
   "cell_type": "code",
   "id": "e730363d6e3cc238",
   "metadata": {},
   "source": [],
   "outputs": [],
   "execution_count": null
  }
 ],
 "metadata": {
  "kernelspec": {
   "display_name": "Python 3",
   "language": "python",
   "name": "python3"
  },
  "language_info": {
   "codemirror_mode": {
    "name": "ipython",
    "version": 2
   },
   "file_extension": ".py",
   "mimetype": "text/x-python",
   "name": "python",
   "nbconvert_exporter": "python",
   "pygments_lexer": "ipython2",
   "version": "2.7.6"
  }
 },
 "nbformat": 4,
 "nbformat_minor": 5
}
