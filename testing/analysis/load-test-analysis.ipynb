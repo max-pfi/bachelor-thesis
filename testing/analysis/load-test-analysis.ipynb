{
 "cells": [
  {
   "cell_type": "code",
   "id": "initial_id",
   "metadata": {
    "collapsed": true
   },
   "source": [
    "import pandas as pd\n",
    "import numpy as np\n",
    "import matplotlib.pyplot as plt\n",
    "from matplotlib.ticker import FuncFormatter"
   ],
   "outputs": [],
   "execution_count": null
  },
  {
   "cell_type": "code",
   "id": "df55e4412a58992f",
   "metadata": {},
   "source": [
    "df = pd.read_csv(\"data/analysis_all.csv\")"
   ],
   "outputs": [],
   "execution_count": null
  },
  {
   "cell_type": "code",
   "id": "b983b9175100ca2c",
   "metadata": {},
   "source": [
    "metrics = ['msg_latency', 'avg_queue_size', 'peak_queue_size']\n",
    "methods = ['timestamp', 'trigger', 'replication'] # adjust based on which methods are present in the data\n",
    "user_counts = [150, 200] # adjust based on which userCounts are present in the data\n",
    "\n",
    "# group data by method and user count\n",
    "grouped = df.groupby(['method', 'user_count']).agg(['mean', 'std'])\n",
    "\n",
    "color_map = {\n",
    "    'replication': 'sienna',\n",
    "    'trigger': 'steelblue',\n",
    "    'timestamp': 'tan'\n",
    "}"
   ],
   "outputs": [],
   "execution_count": null
  },
  {
   "cell_type": "code",
   "id": "9132c9e93a1e4a8b",
   "metadata": {},
   "source": [
    "for metric in metrics:\n",
    "    fig, ax = plt.subplots(figsize=(14, 8))\n",
    "    width = 0.3\n",
    "\n",
    "    x = np.arange(len(user_counts))\n",
    "\n",
    "    for i, method in enumerate(methods):\n",
    "        avg = [grouped.loc[(method, user_count)][(metric, 'mean')] for user_count in user_counts]\n",
    "        stds = [grouped.loc[(method, user_count)][(metric, 'std')] for user_count in user_counts]\n",
    "\n",
    "        ax.bar(x + i * width, avg, yerr=stds, width=width, label=method, capsize=4, color=color_map[method])\n",
    "\n",
    "    ax.set_xticks(x + width / 2)\n",
    "    ax.set_xticklabels(user_counts)\n",
    "    ax.set_xlabel('User Count')\n",
    "    if metric == 'msg_latency':\n",
    "        ax.set_ylabel('Message Latency [s]')\n",
    "        ax.yaxis.set_major_formatter(FuncFormatter(lambda x, _: f'{x / 1000:.0f}'))\n",
    "    elif metric == 'avg_queue_size':\n",
    "        ax.set_ylabel('Avg Queue Size [count]')\n",
    "    elif metric == 'peak_queue_size':\n",
    "        ax.set_ylabel('Peak Queue Size [count]')\n",
    "    ax.set_title(f'{metric.replace(\"_\", \" \").title()} by Method and User Count')\n",
    "    ax.legend()\n",
    "\n",
    "    plt.show()"
   ],
   "outputs": [],
   "execution_count": null
  },
  {
   "cell_type": "code",
   "id": "9ce6a43fda75c133",
   "metadata": {},
   "source": [],
   "outputs": [],
   "execution_count": null
  }
 ],
 "metadata": {
  "kernelspec": {
   "display_name": "Python 3",
   "language": "python",
   "name": "python3"
  },
  "language_info": {
   "codemirror_mode": {
    "name": "ipython",
    "version": 2
   },
   "file_extension": ".py",
   "mimetype": "text/x-python",
   "name": "python",
   "nbconvert_exporter": "python",
   "pygments_lexer": "ipython2",
   "version": "2.7.6"
  }
 },
 "nbformat": 4,
 "nbformat_minor": 5
}
